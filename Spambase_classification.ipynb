{
  "nbformat": 4,
  "nbformat_minor": 0,
  "metadata": {
    "colab": {
      "name": "Spambase classification.ipynb",
      "provenance": [],
      "collapsed_sections": [],
      "toc_visible": true
    },
    "kernelspec": {
      "name": "python3",
      "display_name": "Python 3"
    }
  },
  "cells": [
    {
      "cell_type": "markdown",
      "metadata": {
        "id": "Tzc_CmVbQtnj"
      },
      "source": [
        "### Importing Libraries"
      ]
    },
    {
      "cell_type": "code",
      "metadata": {
        "id": "jTgQXnwIKpei"
      },
      "source": [
        "import numpy as np\n",
        "import matplotlib.pyplot as plt\n",
        "import pandas as pd"
      ],
      "execution_count": null,
      "outputs": []
    },
    {
      "cell_type": "markdown",
      "metadata": {
        "id": "lwtXG2MfRBqp"
      },
      "source": [
        "### Importing Dataset"
      ]
    },
    {
      "cell_type": "code",
      "metadata": {
        "id": "atFwSToKKsX2"
      },
      "source": [
        "dataset = pd.read_csv('spambase.data')\n",
        "X = dataset.iloc[:, :-1].values\n",
        "y = dataset.iloc[:, -1].values"
      ],
      "execution_count": null,
      "outputs": []
    },
    {
      "cell_type": "markdown",
      "metadata": {
        "id": "UoJlM9vbRI42"
      },
      "source": [
        "### Splitting into Test and Training Dataset"
      ]
    },
    {
      "cell_type": "code",
      "metadata": {
        "id": "i88zq48CLWLR"
      },
      "source": [
        "from sklearn.model_selection import train_test_split\n",
        "X_train, X_test, y_train, y_test = train_test_split(X, y, test_size = 0.25, random_state = 0)"
      ],
      "execution_count": null,
      "outputs": []
    },
    {
      "cell_type": "code",
      "metadata": {
        "colab": {
          "base_uri": "https://localhost:8080/"
        },
        "id": "B8Ugp0i5LWxg",
        "outputId": "94f09501-8caf-4286-c9c1-c4e4fc436248"
      },
      "source": [
        "print(X_train)"
      ],
      "execution_count": null,
      "outputs": [
        {
          "output_type": "stream",
          "text": [
            "[[0.000e+00 6.200e-01 1.240e+00 ... 4.592e+00 1.210e+02 3.490e+02]\n",
            " [0.000e+00 5.500e-01 5.500e-01 ... 4.875e+00 1.400e+02 1.950e+02]\n",
            " [0.000e+00 0.000e+00 6.200e-01 ... 1.741e+00 1.400e+01 1.550e+02]\n",
            " ...\n",
            " [0.000e+00 0.000e+00 1.900e-01 ... 3.626e+00 4.400e+01 9.900e+02]\n",
            " [0.000e+00 0.000e+00 0.000e+00 ... 2.000e+00 7.000e+00 2.600e+01]\n",
            " [0.000e+00 2.000e-01 2.000e-01 ... 2.797e+00 1.270e+02 5.120e+02]]\n"
          ],
          "name": "stdout"
        }
      ]
    },
    {
      "cell_type": "code",
      "metadata": {
        "colab": {
          "base_uri": "https://localhost:8080/"
        },
        "id": "zO5o2u0ILZRL",
        "outputId": "c95349a3-72d3-4e55-c539-1cd24d1ebabc"
      },
      "source": [
        "print(y_train)"
      ],
      "execution_count": null,
      "outputs": [
        {
          "output_type": "stream",
          "text": [
            "[1 1 1 ... 1 0 0]\n"
          ],
          "name": "stdout"
        }
      ]
    },
    {
      "cell_type": "code",
      "metadata": {
        "colab": {
          "base_uri": "https://localhost:8080/"
        },
        "id": "4h0JillELbxi",
        "outputId": "6e973341-225f-44cb-8e1e-6f7a805e075b"
      },
      "source": [
        "print(X_test)"
      ],
      "execution_count": null,
      "outputs": [
        {
          "output_type": "stream",
          "text": [
            "[[  0.      0.      0.81  ...  13.5    86.    189.   ]\n",
            " [  1.16    0.      0.    ...   1.476   7.     31.   ]\n",
            " [  0.      0.      0.    ...   4.     11.     68.   ]\n",
            " ...\n",
            " [  0.      0.      0.    ...   1.228   5.     43.   ]\n",
            " [  0.      0.      0.    ...   2.      7.     12.   ]\n",
            " [  0.      0.      0.    ...   1.166   2.      7.   ]]\n"
          ],
          "name": "stdout"
        }
      ]
    },
    {
      "cell_type": "code",
      "metadata": {
        "colab": {
          "base_uri": "https://localhost:8080/"
        },
        "id": "CA4Yj2bLLf_u",
        "outputId": "2a9332d3-ae4d-470d-a9ab-568b29c28427"
      },
      "source": [
        "print(y_test)"
      ],
      "execution_count": null,
      "outputs": [
        {
          "output_type": "stream",
          "text": [
            "[1 0 0 ... 0 0 0]\n"
          ],
          "name": "stdout"
        }
      ]
    },
    {
      "cell_type": "markdown",
      "metadata": {
        "id": "F7DMnOuBRWBG"
      },
      "source": [
        "### Feature Scaling"
      ]
    },
    {
      "cell_type": "code",
      "metadata": {
        "id": "WlVKhcKzLjFy"
      },
      "source": [
        "from sklearn.preprocessing import StandardScaler\n",
        "sc = StandardScaler()\n",
        "X_train = sc.fit_transform(X_train)\n",
        "X_test = sc.transform(X_test)"
      ],
      "execution_count": null,
      "outputs": []
    },
    {
      "cell_type": "code",
      "metadata": {
        "colab": {
          "base_uri": "https://localhost:8080/"
        },
        "id": "CAUUENTaLmJ1",
        "outputId": "e7ba8d6b-7351-483b-be52-79ea9b34915a"
      },
      "source": [
        "print(X_train)"
      ],
      "execution_count": null,
      "outputs": [
        {
          "output_type": "stream",
          "text": [
            "[[-0.3447511   0.30370474  1.8914156  ... -0.01832036  0.54249063\n",
            "   0.12664859]\n",
            " [-0.3447511   0.25076549  0.52763706 ... -0.01016034  0.68785706\n",
            "  -0.15485277]\n",
            " [-0.3447511  -0.16518583  0.66599141 ... -0.10052613 -0.27615185\n",
            "  -0.22797001]\n",
            " ...\n",
            " [-0.3447511  -0.16518583 -0.18389956 ... -0.04617402 -0.04662592\n",
            "   1.29835231]\n",
            " [-0.3447511  -0.16518583 -0.55943278 ... -0.09305812 -0.3297079\n",
            "  -0.4637731 ]\n",
            " [-0.3447511  -0.01393081 -0.16413466 ... -0.07007741  0.58839582\n",
            "   0.42460133]]\n"
          ],
          "name": "stdout"
        }
      ]
    },
    {
      "cell_type": "code",
      "metadata": {
        "colab": {
          "base_uri": "https://localhost:8080/"
        },
        "id": "wqoe6ialLoXg",
        "outputId": "55e379f6-dd7d-4c5b-bd92-28e297fd8bc9"
      },
      "source": [
        "print(X_test)"
      ],
      "execution_count": null,
      "outputs": [
        {
          "output_type": "stream",
          "text": [
            "[[-0.3447511  -0.16518583  1.04152463 ...  0.23853301  0.27471038\n",
            "  -0.16582036]\n",
            " [ 3.32924005 -0.16518583 -0.55943278 ... -0.10816714 -0.3297079\n",
            "  -0.45463344]\n",
            " [-0.3447511  -0.16518583 -0.55943278 ... -0.0353901  -0.29910444\n",
            "  -0.387     ]\n",
            " ...\n",
            " [-0.3447511  -0.16518583 -0.55943278 ... -0.11531798 -0.34500963\n",
            "  -0.43269827]\n",
            " [-0.3447511  -0.16518583 -0.55943278 ... -0.09305812 -0.3297079\n",
            "  -0.48936413]\n",
            " [-0.3447511  -0.16518583 -0.55943278 ... -0.11710569 -0.36796222\n",
            "  -0.49850378]]\n"
          ],
          "name": "stdout"
        }
      ]
    },
    {
      "cell_type": "code",
      "metadata": {
        "id": "Pdv53661V_cM"
      },
      "source": [
        "res = {}"
      ],
      "execution_count": null,
      "outputs": []
    },
    {
      "cell_type": "markdown",
      "metadata": {
        "id": "i3ryq3UyRizw"
      },
      "source": [
        "## Naive Bayes"
      ]
    },
    {
      "cell_type": "markdown",
      "metadata": {
        "id": "I-_tdiJVRmvF"
      },
      "source": [
        "### Training model on training set"
      ]
    },
    {
      "cell_type": "code",
      "metadata": {
        "colab": {
          "base_uri": "https://localhost:8080/"
        },
        "id": "QUQOJBuoLsOd",
        "outputId": "fd850c9b-43e3-45c4-d673-d080e156216b"
      },
      "source": [
        "from sklearn.naive_bayes import GaussianNB\n",
        "classifier = GaussianNB()\n",
        "classifier.fit(X_train, y_train)"
      ],
      "execution_count": null,
      "outputs": [
        {
          "output_type": "execute_result",
          "data": {
            "text/plain": [
              "GaussianNB(priors=None, var_smoothing=1e-09)"
            ]
          },
          "metadata": {
            "tags": []
          },
          "execution_count": 12
        }
      ]
    },
    {
      "cell_type": "markdown",
      "metadata": {
        "id": "8Mje9-cMRwAY"
      },
      "source": [
        "### Predicting Test results"
      ]
    },
    {
      "cell_type": "code",
      "metadata": {
        "colab": {
          "base_uri": "https://localhost:8080/"
        },
        "id": "7KUW0JflLwRj",
        "outputId": "0e7fff80-4426-419d-c3e5-c0a64cde7aba"
      },
      "source": [
        "y_pred = classifier.predict(X_test)\n",
        "print(np.concatenate((y_pred.reshape(len(y_pred),1), y_test.reshape(len(y_test),1)),1))"
      ],
      "execution_count": null,
      "outputs": [
        {
          "output_type": "stream",
          "text": [
            "[[1 1]\n",
            " [0 0]\n",
            " [0 0]\n",
            " ...\n",
            " [1 0]\n",
            " [1 0]\n",
            " [1 0]]\n"
          ],
          "name": "stdout"
        }
      ]
    },
    {
      "cell_type": "markdown",
      "metadata": {
        "id": "hEC6-QidR3X1"
      },
      "source": [
        "### Making confusion Matrix"
      ]
    },
    {
      "cell_type": "code",
      "metadata": {
        "colab": {
          "base_uri": "https://localhost:8080/"
        },
        "id": "V9Ml0Ic9L8Wo",
        "outputId": "f2eefa13-ab5d-4722-ad22-b3de6a79df86"
      },
      "source": [
        "from sklearn.metrics import confusion_matrix, accuracy_score\n",
        "cm = confusion_matrix(y_test, y_pred)\n",
        "print(\"Confusion Matrix : \")\n",
        "print(cm)\n",
        "acc = accuracy_score(y_test, y_pred)\n",
        "print(\"\\nAccuracy : \", acc)\n",
        "\n",
        "fpr = cm[0][1]/(cm[0][1] + cm[0][0])\n",
        "fnr = cm[1][0]/(cm[1][0] + cm[1][1])\n",
        "err = (cm[0][1] + cm[1][0])/(cm[0][0] + cm[0][1] + cm[1][0] + cm[1][1])\n",
        "\n",
        "res[\"Naive Bayes\"] = [fpr, fnr, err, acc]"
      ],
      "execution_count": null,
      "outputs": [
        {
          "output_type": "stream",
          "text": [
            "Confusion Matrix : \n",
            "[[502 190]\n",
            " [ 12 446]]\n",
            "\n",
            "Accuracy :  0.8243478260869566\n"
          ],
          "name": "stdout"
        }
      ]
    },
    {
      "cell_type": "markdown",
      "metadata": {
        "id": "RngTkEgCSXDs"
      },
      "source": [
        "## KNN Model"
      ]
    },
    {
      "cell_type": "markdown",
      "metadata": {
        "id": "-jK0kO_0Sa84"
      },
      "source": [
        "### Training model on training set"
      ]
    },
    {
      "cell_type": "code",
      "metadata": {
        "colab": {
          "base_uri": "https://localhost:8080/"
        },
        "id": "VFNEoo_iMG1x",
        "outputId": "330ff22d-4ac8-408a-9ef0-ccc66acff8ed"
      },
      "source": [
        "from sklearn.neighbors import KNeighborsClassifier\n",
        "classifier = KNeighborsClassifier(n_neighbors = 5, metric = 'minkowski', p = 2)\n",
        "classifier.fit(X_train, y_train)"
      ],
      "execution_count": null,
      "outputs": [
        {
          "output_type": "execute_result",
          "data": {
            "text/plain": [
              "KNeighborsClassifier(algorithm='auto', leaf_size=30, metric='minkowski',\n",
              "                     metric_params=None, n_jobs=None, n_neighbors=5, p=2,\n",
              "                     weights='uniform')"
            ]
          },
          "metadata": {
            "tags": []
          },
          "execution_count": 15
        }
      ]
    },
    {
      "cell_type": "markdown",
      "metadata": {
        "id": "VRp1RHb2W9S4"
      },
      "source": [
        "### Predicting Test results"
      ]
    },
    {
      "cell_type": "code",
      "metadata": {
        "colab": {
          "base_uri": "https://localhost:8080/"
        },
        "id": "hPYUXVo1Skqu",
        "outputId": "cc602140-a1f6-49b2-81d6-2edf86d6a4d1"
      },
      "source": [
        "y_pred = classifier.predict(X_test)\n",
        "print(np.concatenate((y_pred.reshape(len(y_pred),1), y_test.reshape(len(y_test),1)),1))"
      ],
      "execution_count": null,
      "outputs": [
        {
          "output_type": "stream",
          "text": [
            "[[1 1]\n",
            " [0 0]\n",
            " [0 0]\n",
            " ...\n",
            " [0 0]\n",
            " [0 0]\n",
            " [0 0]]\n"
          ],
          "name": "stdout"
        }
      ]
    },
    {
      "cell_type": "markdown",
      "metadata": {
        "id": "rdu609DTXDJA"
      },
      "source": [
        "### Making confusion Matrix"
      ]
    },
    {
      "cell_type": "code",
      "metadata": {
        "colab": {
          "base_uri": "https://localhost:8080/"
        },
        "id": "H8g_1D8ISmnZ",
        "outputId": "e90b4a4c-9319-4616-ecba-d78965bc2f26"
      },
      "source": [
        "cm = confusion_matrix(y_test, y_pred)\n",
        "print(\"Confusion Matrix : \")\n",
        "print(cm)\n",
        "acc = accuracy_score(y_test, y_pred)\n",
        "print(\"\\nAccuracy : \", acc)\n",
        "\n",
        "fpr = cm[0][1]/(cm[0][1] + cm[0][0])\n",
        "fnr = cm[1][0]/(cm[1][0] + cm[1][1])\n",
        "err = (cm[0][1] + cm[1][0])/(cm[0][0] + cm[0][1] + cm[1][0] + cm[1][1])\n",
        "\n",
        "res[\"KNN\"] = [fpr, fnr, err, acc]"
      ],
      "execution_count": null,
      "outputs": [
        {
          "output_type": "stream",
          "text": [
            "Confusion Matrix : \n",
            "[[655  37]\n",
            " [ 64 394]]\n",
            "\n",
            "Accuracy :  0.9121739130434783\n"
          ],
          "name": "stdout"
        }
      ]
    },
    {
      "cell_type": "markdown",
      "metadata": {
        "id": "qyZqpC28u0v0"
      },
      "source": [
        "## SVM Kernel"
      ]
    },
    {
      "cell_type": "markdown",
      "metadata": {
        "id": "2nXZfElTu-r0"
      },
      "source": [
        "### Training model on training set"
      ]
    },
    {
      "cell_type": "code",
      "metadata": {
        "colab": {
          "base_uri": "https://localhost:8080/"
        },
        "id": "mumZWn-1Spkq",
        "outputId": "778acc93-a4c8-4816-964b-7329108f9007"
      },
      "source": [
        "from sklearn.svm import SVC\n",
        "classifier = SVC(kernel = 'rbf', random_state = 0)\n",
        "classifier.fit(X_train, y_train)"
      ],
      "execution_count": null,
      "outputs": [
        {
          "output_type": "execute_result",
          "data": {
            "text/plain": [
              "SVC(C=1.0, break_ties=False, cache_size=200, class_weight=None, coef0=0.0,\n",
              "    decision_function_shape='ovr', degree=3, gamma='scale', kernel='rbf',\n",
              "    max_iter=-1, probability=False, random_state=0, shrinking=True, tol=0.001,\n",
              "    verbose=False)"
            ]
          },
          "metadata": {
            "tags": []
          },
          "execution_count": 18
        }
      ]
    },
    {
      "cell_type": "markdown",
      "metadata": {
        "id": "Sb9Qc_MpvBan"
      },
      "source": [
        "### Predicting Test results"
      ]
    },
    {
      "cell_type": "code",
      "metadata": {
        "colab": {
          "base_uri": "https://localhost:8080/"
        },
        "id": "5DqhvQkUuGaH",
        "outputId": "e9fac235-4802-4398-98b1-295b62d01c17"
      },
      "source": [
        "y_pred = classifier.predict(X_test)\n",
        "print(np.concatenate((y_pred.reshape(len(y_pred),1), y_test.reshape(len(y_test),1)),1))"
      ],
      "execution_count": null,
      "outputs": [
        {
          "output_type": "stream",
          "text": [
            "[[1 1]\n",
            " [0 0]\n",
            " [0 0]\n",
            " ...\n",
            " [0 0]\n",
            " [0 0]\n",
            " [0 0]]\n"
          ],
          "name": "stdout"
        }
      ]
    },
    {
      "cell_type": "markdown",
      "metadata": {
        "id": "6x1XVFe-vEHc"
      },
      "source": [
        "### Making confusion Matrix"
      ]
    },
    {
      "cell_type": "code",
      "metadata": {
        "colab": {
          "base_uri": "https://localhost:8080/"
        },
        "id": "kK_s0uiDuJkS",
        "outputId": "020c0039-7902-40f7-9c8e-a29da22153c8"
      },
      "source": [
        "cm = confusion_matrix(y_test, y_pred)\n",
        "print(\"Confusion Matrix : \")\n",
        "print(cm)\n",
        "acc = accuracy_score(y_test, y_pred)\n",
        "print(\"\\nAccuracy : \", acc)\n",
        "\n",
        "fpr = cm[0][1]/(cm[0][1] + cm[0][0])\n",
        "fnr = cm[1][0]/(cm[1][0] + cm[1][1])\n",
        "err = (cm[0][1] + cm[1][0])/(cm[0][0] + cm[0][1] + cm[1][0] + cm[1][1])\n",
        "\n",
        "res[\"SVM Kernel\"] = [fpr, fnr, err, acc]"
      ],
      "execution_count": null,
      "outputs": [
        {
          "output_type": "stream",
          "text": [
            "Confusion Matrix : \n",
            "[[665  27]\n",
            " [ 42 416]]\n",
            "\n",
            "Accuracy :  0.94\n"
          ],
          "name": "stdout"
        }
      ]
    },
    {
      "cell_type": "markdown",
      "metadata": {
        "id": "WPIMk8_Iv4W4"
      },
      "source": [
        "## Decision Tree Classifier"
      ]
    },
    {
      "cell_type": "markdown",
      "metadata": {
        "id": "Peam6Gh2wAj4"
      },
      "source": [
        "### Training model on training set"
      ]
    },
    {
      "cell_type": "code",
      "metadata": {
        "colab": {
          "base_uri": "https://localhost:8080/"
        },
        "id": "_vxhUHQ-uM5b",
        "outputId": "0561d749-2b51-4996-96e3-de623fcf8a17"
      },
      "source": [
        "from sklearn.tree import DecisionTreeClassifier\n",
        "classifier = DecisionTreeClassifier(criterion = 'entropy', random_state = 0)\n",
        "classifier.fit(X_train, y_train)"
      ],
      "execution_count": null,
      "outputs": [
        {
          "output_type": "execute_result",
          "data": {
            "text/plain": [
              "DecisionTreeClassifier(ccp_alpha=0.0, class_weight=None, criterion='entropy',\n",
              "                       max_depth=None, max_features=None, max_leaf_nodes=None,\n",
              "                       min_impurity_decrease=0.0, min_impurity_split=None,\n",
              "                       min_samples_leaf=1, min_samples_split=2,\n",
              "                       min_weight_fraction_leaf=0.0, presort='deprecated',\n",
              "                       random_state=0, splitter='best')"
            ]
          },
          "metadata": {
            "tags": []
          },
          "execution_count": 21
        }
      ]
    },
    {
      "cell_type": "markdown",
      "metadata": {
        "id": "N4FAOSqbwDDa"
      },
      "source": [
        "### Predicting Test results"
      ]
    },
    {
      "cell_type": "code",
      "metadata": {
        "colab": {
          "base_uri": "https://localhost:8080/"
        },
        "id": "2YXWHfbJvZRK",
        "outputId": "1874e867-fb27-4327-fc73-96d590766ef1"
      },
      "source": [
        "y_pred = classifier.predict(X_test)\n",
        "print(np.concatenate((y_pred.reshape(len(y_pred),1), y_test.reshape(len(y_test),1)),1))"
      ],
      "execution_count": null,
      "outputs": [
        {
          "output_type": "stream",
          "text": [
            "[[1 1]\n",
            " [0 0]\n",
            " [0 0]\n",
            " ...\n",
            " [0 0]\n",
            " [0 0]\n",
            " [0 0]]\n"
          ],
          "name": "stdout"
        }
      ]
    },
    {
      "cell_type": "markdown",
      "metadata": {
        "id": "fioPc7t1wGFh"
      },
      "source": [
        "### Making confusion Matrix"
      ]
    },
    {
      "cell_type": "code",
      "metadata": {
        "colab": {
          "base_uri": "https://localhost:8080/"
        },
        "id": "O4r08j_CvbIs",
        "outputId": "2b7a333f-5cb6-4de2-ee10-5888ff8e560d"
      },
      "source": [
        "cm = confusion_matrix(y_test, y_pred)\n",
        "print(\"Confusion Matrix : \")\n",
        "print(cm)\n",
        "acc = accuracy_score(y_test, y_pred)\n",
        "print(\"\\nAccuracy : \", acc)\n",
        "\n",
        "fpr = cm[0][1]/(cm[0][1] + cm[0][0])\n",
        "fnr = cm[1][0]/(cm[1][0] + cm[1][1])\n",
        "err = (cm[0][1] + cm[1][0])/(cm[0][0] + cm[0][1] + cm[1][0] + cm[1][1])\n",
        "\n",
        "res[\"Decision Tree\"] = [fpr, fnr, err, acc]"
      ],
      "execution_count": null,
      "outputs": [
        {
          "output_type": "stream",
          "text": [
            "Confusion Matrix : \n",
            "[[641  51]\n",
            " [ 45 413]]\n",
            "\n",
            "Accuracy :  0.9165217391304348\n"
          ],
          "name": "stdout"
        }
      ]
    },
    {
      "cell_type": "markdown",
      "metadata": {
        "id": "_uue1q2AxYGW"
      },
      "source": [
        "## Random Forest Classifier"
      ]
    },
    {
      "cell_type": "markdown",
      "metadata": {
        "id": "BjI2RRiVxU-6"
      },
      "source": [
        "### Training model on training set"
      ]
    },
    {
      "cell_type": "code",
      "metadata": {
        "colab": {
          "base_uri": "https://localhost:8080/"
        },
        "id": "s6_deBWCveoM",
        "outputId": "ef65b91d-7304-4714-f131-b8391d651607"
      },
      "source": [
        "from sklearn.ensemble import RandomForestClassifier\n",
        "classifier = RandomForestClassifier(n_estimators = 20, criterion = 'entropy', random_state = 0)\n",
        "classifier.fit(X_train, y_train)"
      ],
      "execution_count": null,
      "outputs": [
        {
          "output_type": "execute_result",
          "data": {
            "text/plain": [
              "RandomForestClassifier(bootstrap=True, ccp_alpha=0.0, class_weight=None,\n",
              "                       criterion='entropy', max_depth=None, max_features='auto',\n",
              "                       max_leaf_nodes=None, max_samples=None,\n",
              "                       min_impurity_decrease=0.0, min_impurity_split=None,\n",
              "                       min_samples_leaf=1, min_samples_split=2,\n",
              "                       min_weight_fraction_leaf=0.0, n_estimators=20,\n",
              "                       n_jobs=None, oob_score=False, random_state=0, verbose=0,\n",
              "                       warm_start=False)"
            ]
          },
          "metadata": {
            "tags": []
          },
          "execution_count": 24
        }
      ]
    },
    {
      "cell_type": "markdown",
      "metadata": {
        "id": "4aU4OzMnxO6N"
      },
      "source": [
        "### Predicting Test results"
      ]
    },
    {
      "cell_type": "code",
      "metadata": {
        "colab": {
          "base_uri": "https://localhost:8080/"
        },
        "id": "lowFAQNswUU_",
        "outputId": "e666f03d-8354-4bac-cd13-214a5f52dec5"
      },
      "source": [
        "y_pred = classifier.predict(X_test)\n",
        "print(np.concatenate((y_pred.reshape(len(y_pred),1), y_test.reshape(len(y_test),1)),1))"
      ],
      "execution_count": null,
      "outputs": [
        {
          "output_type": "stream",
          "text": [
            "[[1 1]\n",
            " [0 0]\n",
            " [0 0]\n",
            " ...\n",
            " [0 0]\n",
            " [0 0]\n",
            " [0 0]]\n"
          ],
          "name": "stdout"
        }
      ]
    },
    {
      "cell_type": "markdown",
      "metadata": {
        "id": "KU96Pi_gxL5_"
      },
      "source": [
        "### Making confusion Matrix"
      ]
    },
    {
      "cell_type": "code",
      "metadata": {
        "colab": {
          "base_uri": "https://localhost:8080/"
        },
        "id": "esIJ_FvpwWIt",
        "outputId": "5a66297a-d9b3-4695-dec2-a87ed4a28a48"
      },
      "source": [
        "cm = confusion_matrix(y_test, y_pred)\n",
        "print(\"Confusion Matrix : \")\n",
        "print(cm)\n",
        "acc = accuracy_score(y_test, y_pred)\n",
        "print(\"\\nAccuracy : \", acc)\n",
        "\n",
        "fpr = cm[0][1]/(cm[0][1] + cm[0][0])\n",
        "fnr = cm[1][0]/(cm[1][0] + cm[1][1])\n",
        "err = (cm[0][1] + cm[1][0])/(cm[0][0] + cm[0][1] + cm[1][0] + cm[1][1])\n",
        "\n",
        "res[\"Random Forest\"] = [fpr, fnr, err, acc]"
      ],
      "execution_count": null,
      "outputs": [
        {
          "output_type": "stream",
          "text": [
            "Confusion Matrix : \n",
            "[[676  16]\n",
            " [ 31 427]]\n",
            "\n",
            "Accuracy :  0.9591304347826087\n"
          ],
          "name": "stdout"
        }
      ]
    },
    {
      "cell_type": "markdown",
      "metadata": {
        "id": "WVXcGHYQNgJ1"
      },
      "source": [
        "## K-fold Cross-Validation"
      ]
    },
    {
      "cell_type": "markdown",
      "metadata": {
        "id": "H49JExM95nhe"
      },
      "source": [
        "### Creating model on training set"
      ]
    },
    {
      "cell_type": "code",
      "metadata": {
        "id": "K5sqU5-YwaG6"
      },
      "source": [
        "from sklearn.model_selection import KFold \n",
        "from sklearn.linear_model import LogisticRegression\n",
        "k = 5\n",
        "kf = KFold(n_splits=k, shuffle = True, random_state=1)\n",
        "model = LogisticRegression(solver = 'liblinear')"
      ],
      "execution_count": null,
      "outputs": []
    },
    {
      "cell_type": "markdown",
      "metadata": {
        "id": "0qihZnXa5rqS"
      },
      "source": [
        "### Training Model and computing Confusion Matrix"
      ]
    },
    {
      "cell_type": "code",
      "metadata": {
        "colab": {
          "base_uri": "https://localhost:8080/"
        },
        "id": "9ZkC4HPoN2mV",
        "outputId": "711b8059-52d1-4e84-f09b-b6872bf9e28a"
      },
      "source": [
        "from sklearn.metrics import confusion_matrix, accuracy_score\n",
        "from sklearn.preprocessing import StandardScaler\n",
        "\n",
        "acc_score = []\n",
        "\n",
        "cnt = 1\n",
        "for train_index , test_index in kf.split(X):\n",
        "    X_train , X_test = X[train_index,:],X[test_index,:]\n",
        "    y_train , y_test = y[train_index] , y[test_index]\n",
        "\n",
        "    sc = StandardScaler()\n",
        "    X_train = sc.fit_transform(X_train)\n",
        "    X_test = sc.transform(X_test)\n",
        "    model.fit(X_train,y_train)\n",
        "    pred_values = model.predict(X_test)\n",
        "\n",
        "    acc = accuracy_score(y_test, pred_values)\n",
        "    # acc_score.append(acc)\n",
        "\n",
        "    cm = confusion_matrix(y_test, pred_values)\n",
        "    print(\"K = \", cnt, \", Confusion Matrix : \")\n",
        "    print(cm)\n",
        "    # print(\"\\nAccuracy : \", acc)\n",
        "    \n",
        "    fpr = cm[0][1]/(cm[0][1] + cm[0][0])\n",
        "    fnr = cm[1][0]/(cm[1][0] + cm[1][1])\n",
        "    err = (cm[0][1] + cm[1][0])/(cm[0][0] + cm[0][1] + cm[1][0] + cm[1][1])\n",
        "\n",
        "    res[\"K-fold (k=\" + str(cnt) + \")\"] = [fpr, fnr, err, acc]\n",
        "    cnt+=1\n",
        "\n",
        "avg_acc_score = sum(acc_score)/k"
      ],
      "execution_count": null,
      "outputs": [
        {
          "output_type": "stream",
          "text": [
            "K =  1 , Confusion Matrix : \n",
            "[[539  24]\n",
            " [ 46 311]]\n",
            "K =  2 , Confusion Matrix : \n",
            "[[518  17]\n",
            " [ 42 343]]\n",
            "K =  3 , Confusion Matrix : \n",
            "[[520  26]\n",
            " [ 50 324]]\n",
            "K =  4 , Confusion Matrix : \n",
            "[[535  41]\n",
            " [ 35 309]]\n",
            "K =  5 , Confusion Matrix : \n",
            "[[541  27]\n",
            " [ 42 310]]\n"
          ],
          "name": "stdout"
        }
      ]
    },
    {
      "cell_type": "markdown",
      "metadata": {
        "id": "7cLRjZi_TEyi"
      },
      "source": [
        ".\n",
        "\n",
        ".\n",
        "\n",
        "."
      ]
    },
    {
      "cell_type": "markdown",
      "metadata": {
        "id": "gxYoqPIA56kY"
      },
      "source": [
        "## Tabulation and Analysis"
      ]
    },
    {
      "cell_type": "code",
      "metadata": {
        "colab": {
          "base_uri": "https://localhost:8080/"
        },
        "id": "ygCAGli6PMl9",
        "outputId": "0ddaf5a0-d31a-4383-8853-12bb087b3be3"
      },
      "source": [
        "print(\"{:<15}   {:<5}    {:<5}    {:<10}    {:<15}\".format('Model','FPR','FNR', 'Error Rate', 'Accuracy'))\n",
        "print()\n",
        "for label, v in res.items():\n",
        "    fpr, fnr, err, acc = v[0], v[1], v[2], v[3]\n",
        "    print(\"{:<15}   {:.3f}    {:.3f}        {:.3f}       {:.3f}\".format(label, fpr, fnr, err, acc))"
      ],
      "execution_count": null,
      "outputs": [
        {
          "output_type": "stream",
          "text": [
            "Model             FPR      FNR      Error Rate    Accuracy       \n",
            "\n",
            "Naive Bayes       0.275    0.026        0.176       0.824\n",
            "KNN               0.053    0.140        0.088       0.912\n",
            "SVM Kernel        0.039    0.092        0.060       0.940\n",
            "Decision Tree     0.074    0.098        0.083       0.917\n",
            "Random Forest     0.023    0.068        0.041       0.959\n",
            "K-fold (k=1)      0.043    0.129        0.076       0.924\n",
            "K-fold (k=2)      0.032    0.109        0.064       0.936\n",
            "K-fold (k=3)      0.048    0.134        0.083       0.917\n",
            "K-fold (k=4)      0.071    0.102        0.083       0.917\n",
            "K-fold (k=5)      0.048    0.119        0.075       0.925\n"
          ],
          "name": "stdout"
        }
      ]
    },
    {
      "cell_type": "markdown",
      "metadata": {
        "id": "oNpoxiCD6GX6"
      },
      "source": [
        "From the above table, we can see the error rate and accuracy of different models. Based on the table, we can assume that Random Forest Classifier gives the most reliable spam classification for our Spambase dataset. \n",
        "\n",
        "---\n",
        "\n",
        "\n",
        "\n",
        "Random Forest classifier model has an error rate of 0.041, and in K-fold classifier, the row with fold = 2 has the lowest error rate of 0.064. "
      ]
    }
  ]
}